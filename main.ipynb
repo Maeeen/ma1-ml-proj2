{
  "cells": [
    {
      "cell_type": "code",
      "execution_count": null,
      "metadata": {
        "id": "bnMlr_CblixA"
      },
      "outputs": [],
      "source": [
        "# For Google Colaboratory\n",
        "\n",
        "!pip install torchinfo\n",
        "!unzip training.zip"
      ]
    },
    {
      "cell_type": "code",
      "execution_count": null,
      "metadata": {
        "id": "iQm8wphsYaY0"
      },
      "outputs": [],
      "source": [
        "\n",
        "%matplotlib inline\n",
        "%load_ext autoreload\n",
        "%autoreload 2\n",
        "\n",
        "import matplotlib.image as mpimg\n",
        "from torch import nn\n",
        "from torch import Tensor\n",
        "from torch.utils.data import TensorDataset, DataLoader\n",
        "from torchvision import transforms\n",
        "from torchinfo import summary\n",
        "import torch\n",
        "import numpy as np\n",
        "import matplotlib.pyplot as plt\n",
        "import os, sys\n",
        "from PIL import Image\n",
        "from utils import read_all_images, img_crop\n",
        "from augmentation import augment_data, rot90, rot180, rot270, fliph, flipv, flipvh\n",
        "\n",
        "from road_segmentation.utils import *"
      ]
    },
    {
      "cell_type": "code",
      "execution_count": null,
      "metadata": {
        "id": "H12VK8aNYaY7"
      },
      "outputs": [],
      "source": [
        "import warning\n",
        "\n",
        "device = \"cuda\" if torch.cuda.is_available() else \"cpu\"\n",
        "if device == \"cpu\":\n",
        "    warning.warn(\"CUDA not detected, training will be very slow\")\n",
        "\n",
        "device = torch.device(device)"
      ]
    },
    {
      "cell_type": "markdown",
      "metadata": {
        "id": "HSD98fV9YaY-"
      },
      "source": [
        "# Dataset loading"
      ]
    },
    {
      "cell_type": "code",
      "execution_count": null,
      "metadata": {
        "colab": {
          "base_uri": "https://localhost:8080/"
        },
        "id": "aX7wXOWLYaZB",
        "outputId": "2fc6234c-ca26-45be-e999-1ccb923c9216"
      },
      "outputs": [],
      "source": [
        "IMAGE_SRC_DIR = \"data/training/images/\"\n",
        "IMAGE_GT_DIR = \"data/training/groundtruth/\"\n",
        "\n",
        "IMAGES_SRC = np.asarray(read_all_images(IMAGE_SRC_DIR))\n",
        "IMAGES_GT = np.asarray(read_all_images(IMAGE_GT_DIR))\n",
        "\n",
        "IMAGES_SRC.shape"
      ]
    },
    {
      "cell_type": "markdown",
      "metadata": {
        "id": "rF4pjeCVYaZC"
      },
      "source": [
        "# Augment data\n",
        "\n",
        "Testing multiple examples"
      ]
    },
    {
      "cell_type": "code",
      "execution_count": null,
      "metadata": {
        "colab": {
          "base_uri": "https://localhost:8080/",
          "height": 295
        },
        "id": "3EcdBEFeYaZD",
        "outputId": "6b763946-f705-475e-f607-94a4fbd846a6"
      },
      "outputs": [],
      "source": [
        "visualize_augmented_data(IMAGES_SRC, IMAGES_GT)"
      ]
    },
    {
      "cell_type": "code",
      "execution_count": null,
      "metadata": {
        "colab": {
          "base_uri": "https://localhost:8080/"
        },
        "id": "NnV2nD5KYaZE",
        "outputId": "0be65c4a-057e-422b-98f8-9c5b81de96ba"
      },
      "outputs": [],
      "source": [
        "augmented_src, augmented_gt = augment_data(IMAGES_SRC, IMAGES_GT)\n",
        "#augmented_src, augmented_gt = IMAGES_SRC, IMAGES_GT\n",
        "print(augmented_src.shape)\n",
        "print(augmented_gt.shape)"
      ]
    },
    {
      "cell_type": "markdown",
      "metadata": {
        "id": "GEgfC1JDYaZF"
      },
      "source": [
        "## crop"
      ]
    },
    {
      "cell_type": "code",
      "execution_count": null,
      "metadata": {
        "colab": {
          "base_uri": "https://localhost:8080/"
        },
        "id": "ffuTiIquYaZF",
        "outputId": "0246ad16-2af2-4fa5-807c-e77ae4a68cbc"
      },
      "outputs": [],
      "source": [
        "PATCH_SIZE = 100\n",
        "cropped_src, cropped_gt = np.asarray([img_crop(img, PATCH_SIZE, PATCH_SIZE) for img in augmented_src]).reshape((-1, PATCH_SIZE, PATCH_SIZE, 3)), np.asarray([img_crop(img, PATCH_SIZE, PATCH_SIZE) for img in augmented_gt]).reshape((-1, PATCH_SIZE, PATCH_SIZE))\n",
        "print(cropped_src.shape)\n",
        "print(cropped_gt.shape)"
      ]
    },
    {
      "cell_type": "markdown",
      "metadata": {
        "id": "euO5aDzylVf_"
      },
      "source": [
        "# Normalization"
      ]
    },
    {
      "cell_type": "code",
      "execution_count": null,
      "metadata": {
        "id": "Jdl5J_uolVgA"
      },
      "outputs": [],
      "source": [
        "def get_mean_std(imgs):\n",
        "  \"\"\"\n",
        "  Normalizes images with mean and standard deviation, by channel\n",
        "  \"\"\"\n",
        "  mean = imgs.mean(axis=(0, 1, 2))\n",
        "  std = imgs.std(axis=(0, 1, 2))\n",
        "\n",
        "  return mean, std\n",
        "\n",
        "means, stds = get_mean_std(cropped_src)"
      ]
    },
    {
      "cell_type": "markdown",
      "metadata": {
        "id": "LCnabmzfYaZG"
      },
      "source": [
        "# Dataset loading"
      ]
    },
    {
      "cell_type": "code",
      "execution_count": null,
      "metadata": {
        "colab": {
          "base_uri": "https://localhost:8080/"
        },
        "id": "Car1OSKwYaZH",
        "outputId": "5c1462b8-e396-49d6-b0f7-dcbf1e33ee52"
      },
      "outputs": [],
      "source": [
        "img_transform = transforms.Compose([\n",
        "    transforms.ToTensor(),\n",
        "    transforms.Normalize(means, stds)\n",
        "])\n",
        "\n",
        "ds_src, ds_gt = torch.stack([img_transform(i) for i in cropped_src]), torch.stack([transforms.ToTensor()(i) for i in cropped_gt]).squeeze()\n",
        "print(ds_src.shape)\n",
        "print(ds_gt.shape)"
      ]
    },
    {
      "cell_type": "code",
      "execution_count": null,
      "metadata": {
        "id": "ZwVTQH1wYaZI"
      },
      "outputs": [],
      "source": [
        "dataset = TensorDataset(ds_src, ds_gt)"
      ]
    },
    {
      "cell_type": "markdown",
      "metadata": {
        "id": "xlS389njYaZJ"
      },
      "source": [
        "## + splitting"
      ]
    },
    {
      "cell_type": "code",
      "execution_count": null,
      "metadata": {
        "id": "laX_oR5SYaZK"
      },
      "outputs": [],
      "source": [
        "def split_dataset(dataset):\n",
        "  train_size = int(len(dataset) * 0.8)\n",
        "  test_size = len(dataset) - train_size\n",
        "  return torch.utils.data.random_split(dataset, [train_size, test_size])\n",
        "\n",
        "train_ds, test_ds = split_dataset(dataset)"
      ]
    },
    {
      "cell_type": "markdown",
      "metadata": {
        "id": "3nnCvUQ7YaZK"
      },
      "source": [
        "# Model definition"
      ]
    },
    {
      "cell_type": "code",
      "execution_count": null,
      "metadata": {
        "colab": {
          "base_uri": "https://localhost:8080/"
        },
        "id": "0DkBPn0gYaZL",
        "outputId": "29096c68-7020-4e68-8a22-4222ee9ad1d3"
      },
      "outputs": [],
      "source": [
        "from models.UNet import UNet\n",
        "\n",
        "model=UNet(n_channels=3, n_classes=1)\n",
        "summary(model, input_size=(6, 3, PATCH_SIZE, PATCH_SIZE))\n"
      ]
    },
    {
      "cell_type": "markdown",
      "metadata": {
        "id": "WzELPvg1YaZO"
      },
      "source": [
        "# Training!"
      ]
    },
    {
      "cell_type": "code",
      "execution_count": null,
      "metadata": {
        "id": "4j3yK2InYaZO"
      },
      "outputs": [],
      "source": [
        "from tqdm.notebook import tqdm\n",
        "def train_epoch(model, device, train_loader, optimizer, epoch, criterion):\n",
        "    model.train()\n",
        "\n",
        "    loss_history = []\n",
        "    acc_history = []\n",
        "    for batch_idx, (data, target) in enumerate(train_loader):\n",
        "        data, target = data.to(device), target.to(device)\n",
        "        optimizer.zero_grad()\n",
        "        output = model.forward(data)\n",
        "        loss = criterion(output, target)\n",
        "        loss.backward()\n",
        "        optimizer.step()\n",
        "        loss_history.append(loss.item())\n",
        "        acc_history.append(((output > 0).eq(target > 0).sum() / target.numel()).item())\n",
        "\n",
        "    return acc_history, loss_history"
      ]
    },
    {
      "cell_type": "code",
      "execution_count": null,
      "metadata": {
        "id": "aPud9ntwlVgD"
      },
      "outputs": [],
      "source": []
    },
    {
      "cell_type": "code",
      "execution_count": null,
      "metadata": {
        "id": "TljmWD_8YaZP"
      },
      "outputs": [],
      "source": [
        "def train(device, batch_size=32, epochs=60):\n",
        "    pytorchDl = DataLoader(train_ds, batch_size=batch_size, shuffle=True)\n",
        "    model.to(device)\n",
        "    optimizer = torch.optim.Adam(model.parameters(), lr=0.005)\n",
        "    criterion = nn.BCEWithLogitsLoss()\n",
        "\n",
        "    for i in tqdm(range(epochs)):\n",
        "        acc_history, loss_history = train_epoch(model, device, pytorchDl, optimizer, i, criterion)\n",
        "        if i % 1 == 0:\n",
        "          print(\"Epoch: \", i, \" Accuracy: \", sum(acc_history)/len(acc_history), \" Loss: \", sum(loss_history)/len(loss_history))\n",
        "        if i%5==0:\n",
        "          print(\"saving…\")\n",
        "          torch.save(model.state_dict(), \"./checkpoint_{}.pth\".format(i))\n",
        "        if i%5 == 0:\n",
        "          f1 = compute_f1(test_ds, model, device, threshold=0.25)\n",
        "          print(\"F1: \", f1)\n",
        "\n",
        "    return"
      ]
    },
    {
      "cell_type": "code",
      "execution_count": null,
      "metadata": {
        "colab": {
          "base_uri": "https://localhost:8080/"
        },
        "id": "oTX7P59PlVgE",
        "outputId": "e2df4c35-eaeb-4857-cc47-76b1043330b8"
      },
      "outputs": [],
      "source": [
        "model.load_state_dict(torch.load(\"./UNet_145.pth\"))"
      ]
    },
    {
      "cell_type": "markdown",
      "metadata": {
        "id": "04aRtvzNYaZP"
      },
      "source": [
        "# Let's play!"
      ]
    },
    {
      "cell_type": "code",
      "execution_count": null,
      "metadata": {
        "colab": {
          "base_uri": "https://localhost:8080/",
          "height": 504,
          "referenced_widgets": [
            "3092e655318f4491bf4b538222a3289c",
            "2b6e649d156c4d53b5b2cbd51e73dced",
            "c26c29be0f3f415aaa63b8bb119530d1",
            "36aa099022a1417eb9cb3278438199f1",
            "28c9cb980d3c4d119714a440bce732ba",
            "feb96aa0614845fe87d4c2591bcd1673",
            "9268cbe3f0974aea8edcb9ac39b5e95f",
            "7aa015ec8ea34ff8bcab703b2036e219",
            "42983eb5da424e5cb731a621ff76864a",
            "80ff2e3c9ff44a04a2cdbef5d7d70717",
            "2984ed7d4b0141b19311e149c0792fe5",
            "f2b60c291e624ed7a7989d4005e7db33"
          ]
        },
        "id": "0x0s_39gYaZQ",
        "outputId": "cfa89e3d-d191-40f1-f707-9061c7cf7194"
      },
      "outputs": [],
      "source": [
        "#train(device, 32, 150)"
      ]
    },
    {
      "cell_type": "markdown",
      "metadata": {
        "id": "VG0QhsXAYaZR"
      },
      "source": [
        "# Visualize results?"
      ]
    },
    {
      "cell_type": "code",
      "execution_count": null,
      "metadata": {
        "colab": {
          "base_uri": "https://localhost:8080/",
          "height": 744
        },
        "id": "TVtaAt-yYaZR",
        "outputId": "f76f2f5e-0ca1-45c3-f1c8-f072758a3def"
      },
      "outputs": [],
      "source": [
        "visualize_result(device, model, train_ds)\n",
        "visualize_result(device, model, test_ds)"
      ]
    },
    {
      "cell_type": "code",
      "execution_count": null,
      "metadata": {
        "colab": {
          "base_uri": "https://localhost:8080/",
          "height": 1000
        },
        "id": "G8W72wNNpQgv",
        "outputId": "d8e53b1c-413c-43d4-ae52-7e0b036ab38c"
      },
      "outputs": [],
      "source": [
        "dl = DataLoader(train_ds, batch_size=1, shuffle=True)\n",
        "\n",
        "N = 1000\n",
        "\n",
        "acc_dict = {}\n",
        "\n",
        "for batch_idx, (data, target) in enumerate(dl):\n",
        "    data, target = data.to(device), target.to(device)\n",
        "    output = model.forward(data)\n",
        "\n",
        "    acc = ((output > 0).eq(target > 0).sum() / target.numel()).item()\n",
        "\n",
        "    acc_dict[acc] = (data, target)\n",
        "\n",
        "    if batch_idx >= N:\n",
        "      break\n",
        "\n",
        "k = 4\n",
        "top_k = []\n",
        "\n",
        "accs = sorted(list(acc_dict.keys()))\n",
        "\n",
        "top_k = [\n",
        "    (accs[i], acc_dict[accs[i]])\n",
        "    for i in range(min(len(accs), k))\n",
        "]\n",
        "\n",
        "m = len(top_k)\n",
        "\n",
        "from math import ceil\n",
        "cols = 3*2 # 2 sets of 3 images\n",
        "rows = ceil(m/2)\n",
        "\n",
        "fig = plt.figure(figsize=(15, 15))\n",
        "\n",
        "for i, (acc, (data, target)) in enumerate(top_k):\n",
        "    idx = i*3\n",
        "\n",
        "    data = data.squeeze()\n",
        "    target = target.squeeze()\n",
        "\n",
        "    inputs = data.to(device).unsqueeze(0)\n",
        "\n",
        "    output = model.forward(inputs)\n",
        "\n",
        "    data, target = data.cpu().numpy().transpose((1, 2, 0)), target.cpu().numpy()\n",
        "\n",
        "    fig.add_subplot(rows, cols, idx+1)\n",
        "    im = plt.imshow(data)\n",
        "    plt.title(\"Original Image\")\n",
        "\n",
        "    fig.add_subplot(rows, cols, idx+2)\n",
        "    im = plt.imshow(target)\n",
        "    fig.colorbar(im, fraction=0.046, pad=0.04)\n",
        "    plt.title(\"Ground Truth\")\n",
        "\n",
        "    fig.add_subplot(rows, cols, idx+3)\n",
        "    im = plt.imshow(nn.Sigmoid()(output.cpu().detach()).numpy())\n",
        "    fig.colorbar(im, fraction=0.046, pad=0.04)\n",
        "    plt.title(f\"Prediction (acc={acc})\")\n",
        "\n",
        "    plt.show()"
      ]
    },
    {
      "cell_type": "markdown",
      "metadata": {
        "id": "BRYqcinvYaZS"
      },
      "source": [
        "# Making a submission"
      ]
    },
    {
      "cell_type": "code",
      "execution_count": null,
      "metadata": {
        "id": "OYg1V5E034oP",
        "outputId": "d4e506bd-c279-4f65-bc85-42324a575aa0"
      },
      "outputs": [],
      "source": [
        "import time\n",
        "\n",
        "TEST_SET_FOLDER = os.path.abspath(\"data/test_set_images/\")\n",
        "SUBMISSION_NAME = f\"submission_{time.time()}.csv\"\n",
        "\n",
        "SUBMISSION_PATH = os.path.abspath(\"submissions/\" + SUBMISSION_NAME)\n",
        "\n",
        "make_submission(SUBMISSION_PATH, TEST_SET_FOLDER)"
      ]
    }
  ],
  "metadata": {
    "accelerator": "GPU",
    "colab": {
      "gpuType": "T4",
      "provenance": []
    },
    "kernelspec": {
      "display_name": "Python 3",
      "name": "python3"
    },
    "language_info": {
      "codemirror_mode": {
        "name": "ipython",
        "version": 3
      },
      "file_extension": ".py",
      "mimetype": "text/x-python",
      "name": "python",
      "nbconvert_exporter": "python",
      "pygments_lexer": "ipython3",
      "version": "3.10.6"
    },
    "widgets": {
      "application/vnd.jupyter.widget-state+json": {
        "28c9cb980d3c4d119714a440bce732ba": {
          "model_module": "@jupyter-widgets/base",
          "model_module_version": "1.2.0",
          "model_name": "LayoutModel",
          "state": {
            "_model_module": "@jupyter-widgets/base",
            "_model_module_version": "1.2.0",
            "_model_name": "LayoutModel",
            "_view_count": null,
            "_view_module": "@jupyter-widgets/base",
            "_view_module_version": "1.2.0",
            "_view_name": "LayoutView",
            "align_content": null,
            "align_items": null,
            "align_self": null,
            "border": null,
            "bottom": null,
            "display": null,
            "flex": null,
            "flex_flow": null,
            "grid_area": null,
            "grid_auto_columns": null,
            "grid_auto_flow": null,
            "grid_auto_rows": null,
            "grid_column": null,
            "grid_gap": null,
            "grid_row": null,
            "grid_template_areas": null,
            "grid_template_columns": null,
            "grid_template_rows": null,
            "height": null,
            "justify_content": null,
            "justify_items": null,
            "left": null,
            "margin": null,
            "max_height": null,
            "max_width": null,
            "min_height": null,
            "min_width": null,
            "object_fit": null,
            "object_position": null,
            "order": null,
            "overflow": null,
            "overflow_x": null,
            "overflow_y": null,
            "padding": null,
            "right": null,
            "top": null,
            "visibility": null,
            "width": null
          }
        },
        "2984ed7d4b0141b19311e149c0792fe5": {
          "model_module": "@jupyter-widgets/controls",
          "model_module_version": "1.5.0",
          "model_name": "DescriptionStyleModel",
          "state": {
            "_model_module": "@jupyter-widgets/controls",
            "_model_module_version": "1.5.0",
            "_model_name": "DescriptionStyleModel",
            "_view_count": null,
            "_view_module": "@jupyter-widgets/base",
            "_view_module_version": "1.2.0",
            "_view_name": "StyleView",
            "description_width": ""
          }
        },
        "2b6e649d156c4d53b5b2cbd51e73dced": {
          "model_module": "@jupyter-widgets/controls",
          "model_module_version": "1.5.0",
          "model_name": "HTMLModel",
          "state": {
            "_dom_classes": [],
            "_model_module": "@jupyter-widgets/controls",
            "_model_module_version": "1.5.0",
            "_model_name": "HTMLModel",
            "_view_count": null,
            "_view_module": "@jupyter-widgets/controls",
            "_view_module_version": "1.5.0",
            "_view_name": "HTMLView",
            "description": "",
            "description_tooltip": null,
            "layout": "IPY_MODEL_feb96aa0614845fe87d4c2591bcd1673",
            "placeholder": "​",
            "style": "IPY_MODEL_9268cbe3f0974aea8edcb9ac39b5e95f",
            "value": "  2%"
          }
        },
        "3092e655318f4491bf4b538222a3289c": {
          "model_module": "@jupyter-widgets/controls",
          "model_module_version": "1.5.0",
          "model_name": "HBoxModel",
          "state": {
            "_dom_classes": [],
            "_model_module": "@jupyter-widgets/controls",
            "_model_module_version": "1.5.0",
            "_model_name": "HBoxModel",
            "_view_count": null,
            "_view_module": "@jupyter-widgets/controls",
            "_view_module_version": "1.5.0",
            "_view_name": "HBoxView",
            "box_style": "",
            "children": [
              "IPY_MODEL_2b6e649d156c4d53b5b2cbd51e73dced",
              "IPY_MODEL_c26c29be0f3f415aaa63b8bb119530d1",
              "IPY_MODEL_36aa099022a1417eb9cb3278438199f1"
            ],
            "layout": "IPY_MODEL_28c9cb980d3c4d119714a440bce732ba"
          }
        },
        "36aa099022a1417eb9cb3278438199f1": {
          "model_module": "@jupyter-widgets/controls",
          "model_module_version": "1.5.0",
          "model_name": "HTMLModel",
          "state": {
            "_dom_classes": [],
            "_model_module": "@jupyter-widgets/controls",
            "_model_module_version": "1.5.0",
            "_model_name": "HTMLModel",
            "_view_count": null,
            "_view_module": "@jupyter-widgets/controls",
            "_view_module_version": "1.5.0",
            "_view_name": "HTMLView",
            "description": "",
            "description_tooltip": null,
            "layout": "IPY_MODEL_80ff2e3c9ff44a04a2cdbef5d7d70717",
            "placeholder": "​",
            "style": "IPY_MODEL_2984ed7d4b0141b19311e149c0792fe5",
            "value": " 6/400 [01:02&lt;1:03:24,  9.66s/it]"
          }
        },
        "42983eb5da424e5cb731a621ff76864a": {
          "model_module": "@jupyter-widgets/controls",
          "model_module_version": "1.5.0",
          "model_name": "ProgressStyleModel",
          "state": {
            "_model_module": "@jupyter-widgets/controls",
            "_model_module_version": "1.5.0",
            "_model_name": "ProgressStyleModel",
            "_view_count": null,
            "_view_module": "@jupyter-widgets/base",
            "_view_module_version": "1.2.0",
            "_view_name": "StyleView",
            "bar_color": null,
            "description_width": ""
          }
        },
        "7aa015ec8ea34ff8bcab703b2036e219": {
          "model_module": "@jupyter-widgets/base",
          "model_module_version": "1.2.0",
          "model_name": "LayoutModel",
          "state": {
            "_model_module": "@jupyter-widgets/base",
            "_model_module_version": "1.2.0",
            "_model_name": "LayoutModel",
            "_view_count": null,
            "_view_module": "@jupyter-widgets/base",
            "_view_module_version": "1.2.0",
            "_view_name": "LayoutView",
            "align_content": null,
            "align_items": null,
            "align_self": null,
            "border": null,
            "bottom": null,
            "display": null,
            "flex": null,
            "flex_flow": null,
            "grid_area": null,
            "grid_auto_columns": null,
            "grid_auto_flow": null,
            "grid_auto_rows": null,
            "grid_column": null,
            "grid_gap": null,
            "grid_row": null,
            "grid_template_areas": null,
            "grid_template_columns": null,
            "grid_template_rows": null,
            "height": null,
            "justify_content": null,
            "justify_items": null,
            "left": null,
            "margin": null,
            "max_height": null,
            "max_width": null,
            "min_height": null,
            "min_width": null,
            "object_fit": null,
            "object_position": null,
            "order": null,
            "overflow": null,
            "overflow_x": null,
            "overflow_y": null,
            "padding": null,
            "right": null,
            "top": null,
            "visibility": null,
            "width": null
          }
        },
        "80ff2e3c9ff44a04a2cdbef5d7d70717": {
          "model_module": "@jupyter-widgets/base",
          "model_module_version": "1.2.0",
          "model_name": "LayoutModel",
          "state": {
            "_model_module": "@jupyter-widgets/base",
            "_model_module_version": "1.2.0",
            "_model_name": "LayoutModel",
            "_view_count": null,
            "_view_module": "@jupyter-widgets/base",
            "_view_module_version": "1.2.0",
            "_view_name": "LayoutView",
            "align_content": null,
            "align_items": null,
            "align_self": null,
            "border": null,
            "bottom": null,
            "display": null,
            "flex": null,
            "flex_flow": null,
            "grid_area": null,
            "grid_auto_columns": null,
            "grid_auto_flow": null,
            "grid_auto_rows": null,
            "grid_column": null,
            "grid_gap": null,
            "grid_row": null,
            "grid_template_areas": null,
            "grid_template_columns": null,
            "grid_template_rows": null,
            "height": null,
            "justify_content": null,
            "justify_items": null,
            "left": null,
            "margin": null,
            "max_height": null,
            "max_width": null,
            "min_height": null,
            "min_width": null,
            "object_fit": null,
            "object_position": null,
            "order": null,
            "overflow": null,
            "overflow_x": null,
            "overflow_y": null,
            "padding": null,
            "right": null,
            "top": null,
            "visibility": null,
            "width": null
          }
        },
        "9268cbe3f0974aea8edcb9ac39b5e95f": {
          "model_module": "@jupyter-widgets/controls",
          "model_module_version": "1.5.0",
          "model_name": "DescriptionStyleModel",
          "state": {
            "_model_module": "@jupyter-widgets/controls",
            "_model_module_version": "1.5.0",
            "_model_name": "DescriptionStyleModel",
            "_view_count": null,
            "_view_module": "@jupyter-widgets/base",
            "_view_module_version": "1.2.0",
            "_view_name": "StyleView",
            "description_width": ""
          }
        },
        "c26c29be0f3f415aaa63b8bb119530d1": {
          "model_module": "@jupyter-widgets/controls",
          "model_module_version": "1.5.0",
          "model_name": "FloatProgressModel",
          "state": {
            "_dom_classes": [],
            "_model_module": "@jupyter-widgets/controls",
            "_model_module_version": "1.5.0",
            "_model_name": "FloatProgressModel",
            "_view_count": null,
            "_view_module": "@jupyter-widgets/controls",
            "_view_module_version": "1.5.0",
            "_view_name": "ProgressView",
            "bar_style": "danger",
            "description": "",
            "description_tooltip": null,
            "layout": "IPY_MODEL_7aa015ec8ea34ff8bcab703b2036e219",
            "max": 400,
            "min": 0,
            "orientation": "horizontal",
            "style": "IPY_MODEL_42983eb5da424e5cb731a621ff76864a",
            "value": 6
          }
        },
        "feb96aa0614845fe87d4c2591bcd1673": {
          "model_module": "@jupyter-widgets/base",
          "model_module_version": "1.2.0",
          "model_name": "LayoutModel",
          "state": {
            "_model_module": "@jupyter-widgets/base",
            "_model_module_version": "1.2.0",
            "_model_name": "LayoutModel",
            "_view_count": null,
            "_view_module": "@jupyter-widgets/base",
            "_view_module_version": "1.2.0",
            "_view_name": "LayoutView",
            "align_content": null,
            "align_items": null,
            "align_self": null,
            "border": null,
            "bottom": null,
            "display": null,
            "flex": null,
            "flex_flow": null,
            "grid_area": null,
            "grid_auto_columns": null,
            "grid_auto_flow": null,
            "grid_auto_rows": null,
            "grid_column": null,
            "grid_gap": null,
            "grid_row": null,
            "grid_template_areas": null,
            "grid_template_columns": null,
            "grid_template_rows": null,
            "height": null,
            "justify_content": null,
            "justify_items": null,
            "left": null,
            "margin": null,
            "max_height": null,
            "max_width": null,
            "min_height": null,
            "min_width": null,
            "object_fit": null,
            "object_position": null,
            "order": null,
            "overflow": null,
            "overflow_x": null,
            "overflow_y": null,
            "padding": null,
            "right": null,
            "top": null,
            "visibility": null,
            "width": null
          }
        }
      }
    }
  },
  "nbformat": 4,
  "nbformat_minor": 0
}
